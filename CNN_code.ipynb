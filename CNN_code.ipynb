{
 "cells": [
  {
   "cell_type": "code",
   "execution_count": 2,
   "id": "64398c0e",
   "metadata": {
    "scrolled": true
   },
   "outputs": [
    {
     "name": "stdout",
     "output_type": "stream",
     "text": [
      "Requirement already satisfied: torch in c:\\users\\christian\\.conda\\envs\\myenv311\\lib\\site-packages (2.2.0)\n",
      "Requirement already satisfied: torchvision in c:\\users\\christian\\.conda\\envs\\myenv311\\lib\\site-packages (0.17.0)\n",
      "Requirement already satisfied: matplotlib in c:\\users\\christian\\.conda\\envs\\myenv311\\lib\\site-packages (3.7.1)\n",
      "Requirement already satisfied: numpy in c:\\users\\christian\\.conda\\envs\\myenv311\\lib\\site-packages (1.24.3)\n",
      "Requirement already satisfied: scikit-learn in c:\\users\\christian\\.conda\\envs\\myenv311\\lib\\site-packages (1.2.2)\n",
      "Requirement already satisfied: pandas in c:\\users\\christian\\.conda\\envs\\myenv311\\lib\\site-packages (1.5.3)\n",
      "Requirement already satisfied: filelock in c:\\users\\christian\\.conda\\envs\\myenv311\\lib\\site-packages (from torch) (3.9.0)\n",
      "Requirement already satisfied: typing-extensions>=4.8.0 in c:\\users\\christian\\.conda\\envs\\myenv311\\lib\\site-packages (from torch) (4.9.0)\n",
      "Requirement already satisfied: sympy in c:\\users\\christian\\.conda\\envs\\myenv311\\lib\\site-packages (from torch) (1.11.1)\n",
      "Requirement already satisfied: networkx in c:\\users\\christian\\.conda\\envs\\myenv311\\lib\\site-packages (from torch) (2.8.4)\n",
      "Requirement already satisfied: jinja2 in c:\\users\\christian\\.conda\\envs\\myenv311\\lib\\site-packages (from torch) (3.1.2)\n",
      "Requirement already satisfied: fsspec in c:\\users\\christian\\.conda\\envs\\myenv311\\lib\\site-packages (from torch) (2023.3.0)\n",
      "Requirement already satisfied: requests in c:\\users\\christian\\.conda\\envs\\myenv311\\lib\\site-packages (from torchvision) (2.29.0)\n",
      "Requirement already satisfied: pillow!=8.3.*,>=5.3.0 in c:\\users\\christian\\.conda\\envs\\myenv311\\lib\\site-packages (from torchvision) (9.4.0)\n",
      "Requirement already satisfied: contourpy>=1.0.1 in c:\\users\\christian\\.conda\\envs\\myenv311\\lib\\site-packages (from matplotlib) (1.0.5)\n",
      "Requirement already satisfied: cycler>=0.10 in c:\\users\\christian\\.conda\\envs\\myenv311\\lib\\site-packages (from matplotlib) (0.11.0)\n",
      "Requirement already satisfied: fonttools>=4.22.0 in c:\\users\\christian\\.conda\\envs\\myenv311\\lib\\site-packages (from matplotlib) (4.25.0)\n",
      "Requirement already satisfied: kiwisolver>=1.0.1 in c:\\users\\christian\\.conda\\envs\\myenv311\\lib\\site-packages (from matplotlib) (1.4.4)\n",
      "Requirement already satisfied: packaging>=20.0 in c:\\users\\christian\\.conda\\envs\\myenv311\\lib\\site-packages (from matplotlib) (23.0)\n",
      "Requirement already satisfied: pyparsing>=2.3.1 in c:\\users\\christian\\.conda\\envs\\myenv311\\lib\\site-packages (from matplotlib) (3.0.9)\n",
      "Requirement already satisfied: python-dateutil>=2.7 in c:\\users\\christian\\.conda\\envs\\myenv311\\lib\\site-packages (from matplotlib) (2.8.2)\n",
      "Requirement already satisfied: scipy>=1.3.2 in c:\\users\\christian\\.conda\\envs\\myenv311\\lib\\site-packages (from scikit-learn) (1.10.1)\n",
      "Requirement already satisfied: joblib>=1.1.1 in c:\\users\\christian\\.conda\\envs\\myenv311\\lib\\site-packages (from scikit-learn) (1.2.0)\n",
      "Requirement already satisfied: threadpoolctl>=2.0.0 in c:\\users\\christian\\.conda\\envs\\myenv311\\lib\\site-packages (from scikit-learn) (2.2.0)\n",
      "Requirement already satisfied: pytz>=2020.1 in c:\\users\\christian\\.conda\\envs\\myenv311\\lib\\site-packages (from pandas) (2022.7)\n",
      "Requirement already satisfied: six>=1.5 in c:\\users\\christian\\appdata\\roaming\\python\\python311\\site-packages (from python-dateutil>=2.7->matplotlib) (1.16.0)\n",
      "Requirement already satisfied: MarkupSafe>=2.0 in c:\\users\\christian\\.conda\\envs\\myenv311\\lib\\site-packages (from jinja2->torch) (2.1.1)\n",
      "Requirement already satisfied: charset-normalizer<4,>=2 in c:\\users\\christian\\.conda\\envs\\myenv311\\lib\\site-packages (from requests->torchvision) (2.0.4)\n",
      "Requirement already satisfied: idna<4,>=2.5 in c:\\users\\christian\\.conda\\envs\\myenv311\\lib\\site-packages (from requests->torchvision) (3.4)\n",
      "Requirement already satisfied: urllib3<1.27,>=1.21.1 in c:\\users\\christian\\.conda\\envs\\myenv311\\lib\\site-packages (from requests->torchvision) (1.26.16)\n",
      "Requirement already satisfied: certifi>=2017.4.17 in c:\\users\\christian\\.conda\\envs\\myenv311\\lib\\site-packages (from requests->torchvision) (2023.5.7)\n",
      "Requirement already satisfied: mpmath>=0.19 in c:\\users\\christian\\.conda\\envs\\myenv311\\lib\\site-packages (from sympy->torch) (1.2.1)\n",
      "Note: you may need to restart the kernel to use updated packages.\n"
     ]
    }
   ],
   "source": [
    "pip install torch torchvision  matplotlib numpy scikit-learn pandas"
   ]
  },
  {
   "cell_type": "code",
   "execution_count": 4,
   "id": "d7a993e8",
   "metadata": {},
   "outputs": [],
   "source": [
    "#Laden der Packages\n",
    "import torch\n",
    "import torch.nn as nn\n",
    "import torch.optim as optim\n",
    "from torch.utils.data import Dataset, DataLoader\n",
    "import torchvision\n",
    "from sklearn.datasets import fetch_openml\n",
    "import numpy as np\n",
    "import matplotlib.pyplot as plt\n",
    "from matplotlib.colors import LinearSegmentedColormap"
   ]
  },
  {
   "cell_type": "code",
   "execution_count": 6,
   "id": "abf0f498",
   "metadata": {},
   "outputs": [],
   "source": [
    "#Laden und teilen des Datensatzes\n",
    "class MNISTDataset(Dataset):\n",
    "    def __init__(self, images, labels):\n",
    "        self.images = images\n",
    "        self.labels = labels\n",
    "\n",
    "    def __len__(self):\n",
    "        return len(self.images)\n",
    "\n",
    "    def __getitem__(self, idx):\n",
    "        image = self.images[idx]\n",
    "        label = self.labels[idx]\n",
    "        return image, label\n",
    "\n",
    "# Load data from sklearn\n",
    "mnist = fetch_openml('mnist_784',parser='auto')\n",
    "\n",
    "data = mnist.data.to_numpy().reshape(-1, 1, 28, 28).astype(np.float32) / 255  # normalize the data to [0, 1]\n",
    "targets = mnist.target.to_numpy().astype(np.int64)  # targets are the labels\n",
    "\n",
    "# Split data into training and testing sets\n",
    "train_data, test_data = data[:60000], data[60000:]\n",
    "train_targets, test_targets = targets[:60000], targets[60000:]\n",
    "\n",
    "train_dataset = MNISTDataset(train_data, train_targets)\n",
    "test_dataset = MNISTDataset(test_data, test_targets)\n",
    "\n",
    "train_loader = DataLoader(train_dataset, batch_size=64, shuffle=True)\n",
    "test_loader = DataLoader(test_dataset, batch_size=64, shuffle=False)"
   ]
  },
  {
   "cell_type": "code",
   "execution_count": 7,
   "id": "31932074",
   "metadata": {},
   "outputs": [],
   "source": [
    "#Definieren und initialisieren des CNNs\n",
    "class CNN(nn.Module):\n",
    "    def __init__(self):\n",
    "        super(CNN, self).__init__()\n",
    "        self.conv1 = nn.Conv2d(1, 10, kernel_size=5)\n",
    "        self.conv2 = nn.Conv2d(10, 20, kernel_size=5)\n",
    "        self.conv2_drop = nn.Dropout2d()\n",
    "        self.fc1 = nn.Linear(320, 50)\n",
    "        self.fc2 = nn.Linear(50, 10)\n",
    "\n",
    "    def forward(self, x):\n",
    "        x = nn.functional.relu(nn.functional.max_pool2d(self.conv1(x), 2))\n",
    "        x = nn.functional.relu(nn.functional.max_pool2d(self.conv2_drop(self.conv2(x)), 2))\n",
    "        x = x.view(-1, 320)\n",
    "        x = nn.functional.relu(self.fc1(x))\n",
    "        x = nn.functional.dropout(x, training=self.training)\n",
    "        x = self.fc2(x)\n",
    "        return nn.functional.log_softmax(x, dim=1)\n",
    "\n",
    "model = CNN()"
   ]
  },
  {
   "cell_type": "code",
   "execution_count": 8,
   "id": "e01e7689",
   "metadata": {},
   "outputs": [
    {
     "name": "stdout",
     "output_type": "stream",
     "text": [
      "Train Epoch: 0 [0/60000 (0%)]\tLoss: 2.312115\n",
      "Train Epoch: 0 [6400/60000 (11%)]\tLoss: 1.714846\n",
      "Train Epoch: 0 [12800/60000 (21%)]\tLoss: 0.667602\n",
      "Train Epoch: 0 [19200/60000 (32%)]\tLoss: 0.493477\n",
      "Train Epoch: 0 [25600/60000 (43%)]\tLoss: 0.559973\n",
      "Train Epoch: 0 [32000/60000 (53%)]\tLoss: 0.245703\n",
      "Train Epoch: 0 [38400/60000 (64%)]\tLoss: 0.380014\n",
      "Train Epoch: 0 [44800/60000 (75%)]\tLoss: 0.408098\n",
      "Train Epoch: 0 [51200/60000 (85%)]\tLoss: 0.275202\n",
      "Train Epoch: 0 [57600/60000 (96%)]\tLoss: 0.347491\n",
      "Train Epoch: 1 [0/60000 (0%)]\tLoss: 0.211366\n",
      "Train Epoch: 1 [6400/60000 (11%)]\tLoss: 0.519571\n",
      "Train Epoch: 1 [12800/60000 (21%)]\tLoss: 0.542301\n",
      "Train Epoch: 1 [19200/60000 (32%)]\tLoss: 0.247808\n",
      "Train Epoch: 1 [25600/60000 (43%)]\tLoss: 0.400136\n",
      "Train Epoch: 1 [32000/60000 (53%)]\tLoss: 0.346765\n",
      "Train Epoch: 1 [38400/60000 (64%)]\tLoss: 0.307084\n",
      "Train Epoch: 1 [44800/60000 (75%)]\tLoss: 0.168199\n",
      "Train Epoch: 1 [51200/60000 (85%)]\tLoss: 0.191739\n",
      "Train Epoch: 1 [57600/60000 (96%)]\tLoss: 0.109420\n",
      "\n",
      "Test set: Average loss: 0.0013, Accuracy: 9726/10000 (97%)\n",
      "\n"
     ]
    },
    {
     "data": {
      "text/plain": [
       "CNN(\n",
       "  (conv1): Conv2d(1, 10, kernel_size=(5, 5), stride=(1, 1))\n",
       "  (conv2): Conv2d(10, 20, kernel_size=(5, 5), stride=(1, 1))\n",
       "  (conv2_drop): Dropout2d(p=0.5, inplace=False)\n",
       "  (fc1): Linear(in_features=320, out_features=50, bias=True)\n",
       "  (fc2): Linear(in_features=50, out_features=10, bias=True)\n",
       ")"
      ]
     },
     "execution_count": 8,
     "metadata": {},
     "output_type": "execute_result"
    }
   ],
   "source": [
    "#Trainieren und Testen des CNNs\n",
    "def train(model, train_loader, epochs=2):\n",
    "    \n",
    "    # Define a loss function and optimizer\n",
    "    criterion = nn.CrossEntropyLoss()\n",
    "    optimizer = optim.SGD(model.parameters(), lr=0.01, momentum=0.9)\n",
    "\n",
    "    \n",
    "    model.train()\n",
    "    for epoch in range(epochs):\n",
    "        for batch_idx, (data, target) in enumerate(train_loader):\n",
    "            optimizer.zero_grad()\n",
    "            output = model(data)\n",
    "            loss = criterion(output, target)\n",
    "            loss.backward()\n",
    "            optimizer.step()\n",
    "            if batch_idx % 100 == 0:\n",
    "                print('Train Epoch: {} [{}/{} ({:.0f}%)]\\tLoss: {:.6f}'.format(\n",
    "                    epoch, batch_idx * len(data), len(train_loader.dataset),\n",
    "                           100. * batch_idx / len(train_loader), loss.item()))\n",
    "\n",
    "# Testing loop\n",
    "def test(model, test_loader):\n",
    "    \n",
    "    # Define a loss function and optimizer\n",
    "    criterion = nn.CrossEntropyLoss()\n",
    "    \n",
    "    model.eval()\n",
    "    test_loss = 0\n",
    "    correct = 0\n",
    "    with torch.no_grad():\n",
    "        for data, target in test_loader:\n",
    "            output = model(data)\n",
    "            test_loss += criterion(output, target).item()\n",
    "            pred = output.argmax(dim=1, keepdim=True)\n",
    "            correct += pred.eq(target.view_as(pred)).sum().item()\n",
    "\n",
    "    test_loss /= len(test_loader.dataset)\n",
    "\n",
    "    print('\\nTest set: Average loss: {:.4f}, Accuracy: {}/{} ({:.0f}%)\\n'.format(\n",
    "        test_loss, correct, len(test_loader.dataset),\n",
    "        100. * correct / len(test_loader.dataset)))\n",
    "\n",
    "# Train the model\n",
    "train(model, train_loader, epochs=2)\n",
    "\n",
    "# Test the model\n",
    "test(model, test_loader)\n",
    "\n",
    "model.eval()"
   ]
  },
  {
   "cell_type": "code",
   "execution_count": 9,
   "id": "8d79c1f1",
   "metadata": {},
   "outputs": [
    {
     "data": {
      "image/png": "[encoded data removed]",
      "text/plain": [
       "<Figure size 640x480 with 1 Axes>"
      ]
     },
     "metadata": {},
     "output_type": "display_data"
    }
   ],
   "source": [
    "#Testen und grafisches anzeigen von einer Instanz\n",
    "data_loader = DataLoader(test_dataset, batch_size=1, shuffle=False)\n",
    "data_iter = iter(data_loader)\n",
    "\n",
    "test_img, label = next(data_iter)\n",
    "\n",
    "test_img_data = np.asarray(test_img)\n",
    "test_img_data = np.squeeze(test_img_data )\n",
    "plt.imshow(test_img_data)\n",
    "plt.show()\n",
    "\n",
    "output = model(test_img)\n",
    "\n",
    "pred = output.argmax()"
   ]
  },
  {
   "cell_type": "code",
   "execution_count": null,
   "id": "f5c3de21",
   "metadata": {},
   "outputs": [],
   "source": []
  }
 ],
 "metadata": {
  "kernelspec": {
   "display_name": "Python 3 (ipykernel)",
   "language": "python",
   "name": "python3"
  },
  "language_info": {
   "codemirror_mode": {
    "name": "ipython",
    "version": 3
   },
   "file_extension": ".py",
   "mimetype": "text/x-python",
   "name": "python",
   "nbconvert_exporter": "python",
   "pygments_lexer": "ipython3",
   "version": "3.11.3"
  }
 },
 "nbformat": 4,
 "nbformat_minor": 5
}
